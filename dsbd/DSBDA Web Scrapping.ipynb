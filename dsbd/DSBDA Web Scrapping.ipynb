{
 "cells": [
  {
   "cell_type": "code",
   "execution_count": 1,
   "id": "d0925d0a-8f6f-4df7-a4fe-d5842d20ca7b",
   "metadata": {},
   "outputs": [],
   "source": [
    "import requests \n",
    "from bs4 import BeautifulSoup"
   ]
  },
  {
   "cell_type": "code",
   "execution_count": 2,
   "id": "5f8aa521-d9d8-4ffb-9c8b-fa09a109999d",
   "metadata": {},
   "outputs": [],
   "source": [
    "HEADER = ({'User-Agent':'Mozilla/5.0 (Windows NT 10.0; Win64; x64) AppleWebKit/537.36 (KHTML, like Gecko) Chrome/91.0.4472.124'})"
   ]
  },
  {
   "cell_type": "code",
   "execution_count": 3,
   "id": "ebd0f2cb-c317-4b7e-9ddd-1b63286be6b1",
   "metadata": {},
   "outputs": [],
   "source": [
    "def getdata(site_url):\n",
    "    res = requests.get(site_url,headers = HEADER)\n",
    "    return res.text"
   ]
  },
  {
   "cell_type": "code",
   "execution_count": 4,
   "id": "64a36530-1707-4b7e-9d5e-ad32f60de1d1",
   "metadata": {},
   "outputs": [],
   "source": [
    "def gethtml(site_url):\n",
    "    data = getdata(site_url)\n",
    "    soup = BeautifulSoup(data, 'html.parser')\n",
    "    return (soup)"
   ]
  },
  {
   "cell_type": "code",
   "execution_count": 5,
   "id": "b471362b-aaf9-4938-8491-d0e4e64d6cfd",
   "metadata": {},
   "outputs": [],
   "source": [
    "site_url = \"https://www.flipkart.com/asus-tuf-gaming-a15-ryzen-5-hexa-core-amd-r5-4600h-8-gb-1-tb-ssd-windows-11-home-4-gb-graphics-nvidia-geforce-gtx-1650-144-hz-fa506ihrz-hn112w-laptop/p/itm20d472c5059c0?pid=COMGGJZFJRZY45WX&lid=LSTCOMGGJZFJRZY45WXD02LFG&marketplace=FLIPKART&fm=neo%2Fmerchandising&iid=M_b91993d6-aefa-4ab9-b3eb-80d93fd4eacb_25_G9SH8YV2O3HD_MC.COMGGJZFJRZY45WX&ppt=None&ppn=None&ssid=gqp3benpxc0000001683688081160&otracker=clp_pmu_v2_Gaming%2BLaptops_2_25.productCard.PMU_V2_ASUS%2BTUF%2BGaming%2BA15%2BRyzen%2B5%2BHexa%2BCore%2BAMD%2BR5-4600H%2B-%2B%25288%2BGB%252F1%2BTB%2BSSD%252FWindows%2B11%2BHome%252F4%2BGB%2BGraphics%252FNVIDIA%2BGeForce%2BGTX%2B1650%252F144%2BHz%2529%2BFA506IHRZ-HN112W%2BGaming%2BLaptop_laptops-store_COMGGJZFJRZY45WX_neo%2Fmerchandising_1&otracker1=clp_pmu_v2_PINNED_neo%2Fmerchandising_Gaming%2BLaptops_LIST_productCard_cc_2_NA_view-all&cid=COMGGJZFJRZY45WX\""
   ]
  },
  {
   "cell_type": "code",
   "execution_count": 6,
   "id": "342c3a1b-5922-4810-b980-87e893a05e26",
   "metadata": {},
   "outputs": [],
   "source": [
    "soup = gethtml(site_url)"
   ]
  },
  {
   "cell_type": "code",
   "execution_count": 7,
   "id": "ab2f13ac-335a-4a01-800a-0c06abef2ca6",
   "metadata": {},
   "outputs": [],
   "source": [
    "def getCustomerName(soup):\n",
    "    data_string = \"\"\n",
    "    customer_list = []\n",
    "    \n",
    "    for item in soup.find_all(\"p\", class_=\"_2V5EHH\"):\n",
    "        data_string = data_string + item.get_text()\n",
    "        customer_list.append(data_string)\n",
    "        data_string = \"\"\n",
    "    return customer_list"
   ]
  },
  {
   "cell_type": "code",
   "execution_count": 8,
   "id": "4842bff5-d8ec-4e68-a5cb-485d1cba12ad",
   "metadata": {},
   "outputs": [
    {
     "name": "stdout",
     "output_type": "stream",
     "text": [
      "['prateek kataria', 'Flipkart Customer', 'Sourav Dutta', 'Flipkart Customer', 'Flipkart Customer', 'Pitash Indwar', 'Daksh  Sharma', 'Ankur Barik', 'Krishna Bangar', 'Ankit  Singh']\n"
     ]
    }
   ],
   "source": [
    "customer_res = getCustomerName(soup)\n",
    "print(customer_res)"
   ]
  },
  {
   "cell_type": "code",
   "execution_count": 9,
   "id": "8b1a0504-7446-43ac-8491-850ddb6aaf69",
   "metadata": {},
   "outputs": [],
   "source": [
    "def getCustomerReview(soup): \n",
    "    review_string = \"\"\n",
    "    review_list = [] \n",
    "     \n",
    "    for item in soup.find_all(\"div\", class_=\"t-ZTKy\"): \n",
    "        review_string = review_string + item.get_text()\n",
    "        review_list.append(review_string)\n",
    "        review_string = \"\"\n",
    "    return review_list\n"
   ]
  },
  {
   "cell_type": "code",
   "execution_count": 10,
   "id": "c55fea9c-0a28-439c-80e9-73dabbdd0f73",
   "metadata": {},
   "outputs": [],
   "source": [
    "customer_rev = getCustomerReview(soup)\n",
    "# print(customer_rev)"
   ]
  },
  {
   "cell_type": "code",
   "execution_count": 11,
   "id": "9b9e3509-1155-4b1c-9c8f-f5fb19349bf6",
   "metadata": {},
   "outputs": [],
   "source": [
    "def getCustomerRating(soup): \n",
    "    rating_string = \"\"\n",
    "    rating_list = [] \n",
    "     \n",
    "    for item in soup.find_all(\"div\", class_=\"_3LWZlK _1BLPMq\"): \n",
    "        rating_string = rating_string + item.get_text()\n",
    "        rating_list.append(rating_string)\n",
    "        rating_string = \"\"\n",
    "    return rating_list"
   ]
  },
  {
   "cell_type": "code",
   "execution_count": 12,
   "id": "12443abe-51d1-4703-8e41-570138093b95",
   "metadata": {},
   "outputs": [
    {
     "name": "stdout",
     "output_type": "stream",
     "text": [
      "['5', '4', '5', '5', '5', '5', '5', '5', '5', '5']\n"
     ]
    }
   ],
   "source": [
    "customer_rat = getCustomerRating(soup)\n",
    "print(customer_rat)"
   ]
  },
  {
   "cell_type": "code",
   "execution_count": 13,
   "id": "c8134a78-7398-40b3-bcf4-4450cfb367e0",
   "metadata": {},
   "outputs": [],
   "source": [
    "import pandas as pd\n"
   ]
  },
  {
   "cell_type": "code",
   "execution_count": 14,
   "id": "76519d4e-6162-4c8f-8a4e-960329ac2089",
   "metadata": {},
   "outputs": [],
   "source": [
    "customer_data = {'Name':customer_res, 'review':customer_rev, 'Rating':customer_rat}"
   ]
  },
  {
   "cell_type": "code",
   "execution_count": 15,
   "id": "b5f1a555-3073-449b-bf44-d418b8e562ad",
   "metadata": {},
   "outputs": [],
   "source": [
    "# customer_data"
   ]
  },
  {
   "cell_type": "code",
   "execution_count": 16,
   "id": "133e214c-0a0a-4bb0-aee3-93b28bb9280e",
   "metadata": {},
   "outputs": [],
   "source": [
    "df = pd.DataFrame(customer_data)"
   ]
  },
  {
   "cell_type": "code",
   "execution_count": 17,
   "id": "183b798f-66e2-42a7-a485-70095680853f",
   "metadata": {},
   "outputs": [
    {
     "data": {
      "text/html": [
       "<div>\n",
       "<style scoped>\n",
       "    .dataframe tbody tr th:only-of-type {\n",
       "        vertical-align: middle;\n",
       "    }\n",
       "\n",
       "    .dataframe tbody tr th {\n",
       "        vertical-align: top;\n",
       "    }\n",
       "\n",
       "    .dataframe thead th {\n",
       "        text-align: right;\n",
       "    }\n",
       "</style>\n",
       "<table border=\"1\" class=\"dataframe\">\n",
       "  <thead>\n",
       "    <tr style=\"text-align: right;\">\n",
       "      <th></th>\n",
       "      <th>Name</th>\n",
       "      <th>review</th>\n",
       "      <th>Rating</th>\n",
       "    </tr>\n",
       "  </thead>\n",
       "  <tbody>\n",
       "    <tr>\n",
       "      <th>0</th>\n",
       "      <td>prateek kataria</td>\n",
       "      <td>This is what Asus stands for. (Gaming). Laptop...</td>\n",
       "      <td>5</td>\n",
       "    </tr>\n",
       "    <tr>\n",
       "      <th>1</th>\n",
       "      <td>Flipkart Customer</td>\n",
       "      <td>Magnificent display, games run smoothly, thoug...</td>\n",
       "      <td>4</td>\n",
       "    </tr>\n",
       "    <tr>\n",
       "      <th>2</th>\n",
       "      <td>Sourav Dutta</td>\n",
       "      <td>Just mind blowing at this price. Such big stor...</td>\n",
       "      <td>5</td>\n",
       "    </tr>\n",
       "    <tr>\n",
       "      <th>3</th>\n",
       "      <td>Flipkart Customer</td>\n",
       "      <td>Best laptop in this  price it awesome then I t...</td>\n",
       "      <td>5</td>\n",
       "    </tr>\n",
       "    <tr>\n",
       "      <th>4</th>\n",
       "      <td>Flipkart Customer</td>\n",
       "      <td>This is a very budget friendly gaming laptop a...</td>\n",
       "      <td>5</td>\n",
       "    </tr>\n",
       "    <tr>\n",
       "      <th>5</th>\n",
       "      <td>Pitash Indwar</td>\n",
       "      <td>Really value for moneyREAD MORE</td>\n",
       "      <td>5</td>\n",
       "    </tr>\n",
       "    <tr>\n",
       "      <th>6</th>\n",
       "      <td>Daksh  Sharma</td>\n",
       "      <td>The Performance Of This Laptop Is Totally Lit🔥...</td>\n",
       "      <td>5</td>\n",
       "    </tr>\n",
       "    <tr>\n",
       "      <th>7</th>\n",
       "      <td>Ankur Barik</td>\n",
       "      <td>The laptop's performance is very good. Games r...</td>\n",
       "      <td>5</td>\n",
       "    </tr>\n",
       "    <tr>\n",
       "      <th>8</th>\n",
       "      <td>Krishna Bangar</td>\n",
       "      <td>ONE OF THE BEST PRODUCT FROM ASUS . LOVED THE ...</td>\n",
       "      <td>5</td>\n",
       "    </tr>\n",
       "    <tr>\n",
       "      <th>9</th>\n",
       "      <td>Ankit  Singh</td>\n",
       "      <td>Loved this beast ❤️READ MORE</td>\n",
       "      <td>5</td>\n",
       "    </tr>\n",
       "  </tbody>\n",
       "</table>\n",
       "</div>"
      ],
      "text/plain": [
       "                Name                                             review Rating\n",
       "0    prateek kataria  This is what Asus stands for. (Gaming). Laptop...      5\n",
       "1  Flipkart Customer  Magnificent display, games run smoothly, thoug...      4\n",
       "2       Sourav Dutta  Just mind blowing at this price. Such big stor...      5\n",
       "3  Flipkart Customer  Best laptop in this  price it awesome then I t...      5\n",
       "4  Flipkart Customer  This is a very budget friendly gaming laptop a...      5\n",
       "5      Pitash Indwar                    Really value for moneyREAD MORE      5\n",
       "6      Daksh  Sharma  The Performance Of This Laptop Is Totally Lit🔥...      5\n",
       "7        Ankur Barik  The laptop's performance is very good. Games r...      5\n",
       "8     Krishna Bangar  ONE OF THE BEST PRODUCT FROM ASUS . LOVED THE ...      5\n",
       "9       Ankit  Singh                       Loved this beast ❤️READ MORE      5"
      ]
     },
     "execution_count": 17,
     "metadata": {},
     "output_type": "execute_result"
    }
   ],
   "source": [
    "df"
   ]
  },
  {
   "cell_type": "code",
   "execution_count": null,
   "id": "47b140e3-0dad-4b31-96a7-18356c20f753",
   "metadata": {},
   "outputs": [],
   "source": []
  }
 ],
 "metadata": {
  "kernelspec": {
   "display_name": "Python 3 (ipykernel)",
   "language": "python",
   "name": "python3"
  },
  "language_info": {
   "codemirror_mode": {
    "name": "ipython",
    "version": 3
   },
   "file_extension": ".py",
   "mimetype": "text/x-python",
   "name": "python",
   "nbconvert_exporter": "python",
   "pygments_lexer": "ipython3",
   "version": "3.9.13"
  }
 },
 "nbformat": 4,
 "nbformat_minor": 5
}
