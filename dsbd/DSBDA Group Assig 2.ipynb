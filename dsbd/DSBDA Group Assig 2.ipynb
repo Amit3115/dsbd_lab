{
 "cells": [
  {
   "cell_type": "markdown",
   "id": "86b6b573",
   "metadata": {},
   "source": [
    "## Group B - Assginment 2"
   ]
  },
  {
   "cell_type": "markdown",
   "id": "5c81ff6b",
   "metadata": {},
   "source": [
    "## Problem Statememt"
   ]
  },
  {
   "cell_type": "markdown",
   "id": "f6661e4d",
   "metadata": {},
   "source": [
    "Perform the following operations using Python on the Air quality data sets"
   ]
  },
  {
   "cell_type": "markdown",
   "id": "bf2a83af",
   "metadata": {},
   "source": [
    "a. Data cleaning\n",
    "\n",
    "b. Data integration\n",
    "\n",
    "c. Data transformation\n",
    "\n",
    "d. Error correcting\n",
    "\n",
    "e. Data model building"
   ]
  },
  {
   "cell_type": "code",
   "execution_count": 3,
   "id": "ee38c23b",
   "metadata": {},
   "outputs": [],
   "source": [
    "import pandas as pd"
   ]
  },
  {
   "cell_type": "markdown",
   "id": "9bcf999c",
   "metadata": {},
   "source": [
    "### Reading data from CSV file"
   ]
  },
  {
   "cell_type": "code",
   "execution_count": 4,
   "id": "98229613",
   "metadata": {},
   "outputs": [
    {
     "data": {
      "text/html": [
       "<div>\n",
       "<style scoped>\n",
       "    .dataframe tbody tr th:only-of-type {\n",
       "        vertical-align: middle;\n",
       "    }\n",
       "\n",
       "    .dataframe tbody tr th {\n",
       "        vertical-align: top;\n",
       "    }\n",
       "\n",
       "    .dataframe thead th {\n",
       "        text-align: right;\n",
       "    }\n",
       "</style>\n",
       "<table border=\"1\" class=\"dataframe\">\n",
       "  <thead>\n",
       "    <tr style=\"text-align: right;\">\n",
       "      <th></th>\n",
       "      <th>Unnamed: 0</th>\n",
       "      <th>Ozone</th>\n",
       "      <th>Solar.R</th>\n",
       "      <th>Wind</th>\n",
       "      <th>Temp</th>\n",
       "      <th>Month</th>\n",
       "      <th>Day</th>\n",
       "      <th>Humidity</th>\n",
       "    </tr>\n",
       "  </thead>\n",
       "  <tbody>\n",
       "    <tr>\n",
       "      <th>0</th>\n",
       "      <td>1</td>\n",
       "      <td>41.0</td>\n",
       "      <td>190.0</td>\n",
       "      <td>7.4</td>\n",
       "      <td>67</td>\n",
       "      <td>5</td>\n",
       "      <td>1</td>\n",
       "      <td>High</td>\n",
       "    </tr>\n",
       "    <tr>\n",
       "      <th>1</th>\n",
       "      <td>2</td>\n",
       "      <td>36.0</td>\n",
       "      <td>118.0</td>\n",
       "      <td>8.0</td>\n",
       "      <td>72</td>\n",
       "      <td>5</td>\n",
       "      <td>2</td>\n",
       "      <td>High</td>\n",
       "    </tr>\n",
       "    <tr>\n",
       "      <th>2</th>\n",
       "      <td>3</td>\n",
       "      <td>12.0</td>\n",
       "      <td>149.0</td>\n",
       "      <td>12.6</td>\n",
       "      <td>74</td>\n",
       "      <td>5</td>\n",
       "      <td>3</td>\n",
       "      <td>Low</td>\n",
       "    </tr>\n",
       "    <tr>\n",
       "      <th>3</th>\n",
       "      <td>4</td>\n",
       "      <td>18.0</td>\n",
       "      <td>313.0</td>\n",
       "      <td>11.5</td>\n",
       "      <td>62</td>\n",
       "      <td>5</td>\n",
       "      <td>4</td>\n",
       "      <td>NaN</td>\n",
       "    </tr>\n",
       "    <tr>\n",
       "      <th>4</th>\n",
       "      <td>5</td>\n",
       "      <td>NaN</td>\n",
       "      <td>NaN</td>\n",
       "      <td>14.3</td>\n",
       "      <td>56</td>\n",
       "      <td>5</td>\n",
       "      <td>5</td>\n",
       "      <td>High</td>\n",
       "    </tr>\n",
       "    <tr>\n",
       "      <th>...</th>\n",
       "      <td>...</td>\n",
       "      <td>...</td>\n",
       "      <td>...</td>\n",
       "      <td>...</td>\n",
       "      <td>...</td>\n",
       "      <td>...</td>\n",
       "      <td>...</td>\n",
       "      <td>...</td>\n",
       "    </tr>\n",
       "    <tr>\n",
       "      <th>148</th>\n",
       "      <td>149</td>\n",
       "      <td>30.0</td>\n",
       "      <td>193.0</td>\n",
       "      <td>6.9</td>\n",
       "      <td>70</td>\n",
       "      <td>9</td>\n",
       "      <td>26</td>\n",
       "      <td>Low</td>\n",
       "    </tr>\n",
       "    <tr>\n",
       "      <th>149</th>\n",
       "      <td>150</td>\n",
       "      <td>NaN</td>\n",
       "      <td>145.0</td>\n",
       "      <td>13.2</td>\n",
       "      <td>77</td>\n",
       "      <td>9</td>\n",
       "      <td>27</td>\n",
       "      <td>Low</td>\n",
       "    </tr>\n",
       "    <tr>\n",
       "      <th>150</th>\n",
       "      <td>151</td>\n",
       "      <td>14.0</td>\n",
       "      <td>191.0</td>\n",
       "      <td>14.3</td>\n",
       "      <td>75</td>\n",
       "      <td>9</td>\n",
       "      <td>28</td>\n",
       "      <td>High</td>\n",
       "    </tr>\n",
       "    <tr>\n",
       "      <th>151</th>\n",
       "      <td>152</td>\n",
       "      <td>18.0</td>\n",
       "      <td>131.0</td>\n",
       "      <td>8.0</td>\n",
       "      <td>76</td>\n",
       "      <td>9</td>\n",
       "      <td>29</td>\n",
       "      <td>Medium</td>\n",
       "    </tr>\n",
       "    <tr>\n",
       "      <th>152</th>\n",
       "      <td>153</td>\n",
       "      <td>20.0</td>\n",
       "      <td>223.0</td>\n",
       "      <td>11.5</td>\n",
       "      <td>68</td>\n",
       "      <td>9</td>\n",
       "      <td>30</td>\n",
       "      <td>Low</td>\n",
       "    </tr>\n",
       "  </tbody>\n",
       "</table>\n",
       "<p>153 rows × 8 columns</p>\n",
       "</div>"
      ],
      "text/plain": [
       "     Unnamed: 0  Ozone  Solar.R  Wind  Temp  Month  Day Humidity\n",
       "0             1   41.0    190.0   7.4    67      5    1     High\n",
       "1             2   36.0    118.0   8.0    72      5    2     High\n",
       "2             3   12.0    149.0  12.6    74      5    3      Low\n",
       "3             4   18.0    313.0  11.5    62      5    4      NaN\n",
       "4             5    NaN      NaN  14.3    56      5    5     High\n",
       "..          ...    ...      ...   ...   ...    ...  ...      ...\n",
       "148         149   30.0    193.0   6.9    70      9   26      Low\n",
       "149         150    NaN    145.0  13.2    77      9   27      Low\n",
       "150         151   14.0    191.0  14.3    75      9   28     High\n",
       "151         152   18.0    131.0   8.0    76      9   29   Medium\n",
       "152         153   20.0    223.0  11.5    68      9   30      Low\n",
       "\n",
       "[153 rows x 8 columns]"
      ]
     },
     "execution_count": 4,
     "metadata": {},
     "output_type": "execute_result"
    }
   ],
   "source": [
    "df = pd.read_csv(r\"C:\\Users\\DNYANDEEP\\Documents\\College\\Assignments\\DSBDA Lab\\airquality.csv\")\n",
    "df"
   ]
  },
  {
   "cell_type": "code",
   "execution_count": 5,
   "id": "e67fb008",
   "metadata": {},
   "outputs": [
    {
     "data": {
      "text/plain": [
       "Unnamed: 0     0\n",
       "Ozone         37\n",
       "Solar.R        7\n",
       "Wind           2\n",
       "Temp           0\n",
       "Month          0\n",
       "Day            0\n",
       "Humidity       8\n",
       "dtype: int64"
      ]
     },
     "execution_count": 5,
     "metadata": {},
     "output_type": "execute_result"
    }
   ],
   "source": [
    "df.isnull().sum()"
   ]
  },
  {
   "cell_type": "markdown",
   "id": "e4aa2637",
   "metadata": {},
   "source": [
    "### Data Cleaning"
   ]
  },
  {
   "cell_type": "markdown",
   "id": "202f2ce6",
   "metadata": {},
   "source": [
    "### Removing unwanted columns"
   ]
  },
  {
   "cell_type": "code",
   "execution_count": 6,
   "id": "c0b57204",
   "metadata": {},
   "outputs": [],
   "source": [
    "DF = df.drop(\"Unnamed: 0\", axis = 1)"
   ]
  },
  {
   "cell_type": "markdown",
   "id": "42703be8",
   "metadata": {},
   "source": [
    "### Replacing numerical null values "
   ]
  },
  {
   "cell_type": "code",
   "execution_count": 7,
   "id": "a85517cb",
   "metadata": {},
   "outputs": [],
   "source": [
    "DF[\"Ozone\"] = DF[\"Ozone\"].fillna(DF[\"Ozone\"].mean())\n",
    "DF[\"Solar.R\"] = DF[\"Solar.R\"].fillna(DF[\"Solar.R\"].mean())\n",
    "DF[\"Wind\"] = DF[\"Wind\"].fillna(DF[\"Wind\"].mean())"
   ]
  },
  {
   "cell_type": "markdown",
   "id": "899cecf4",
   "metadata": {},
   "source": [
    "### Replacing categorical null values"
   ]
  },
  {
   "cell_type": "code",
   "execution_count": 8,
   "id": "c6382af4",
   "metadata": {},
   "outputs": [
    {
     "data": {
      "text/plain": [
       "Ozone       float64\n",
       "Solar.R     float64\n",
       "Wind        float64\n",
       "Temp          int64\n",
       "Month         int64\n",
       "Day           int64\n",
       "Humidity     object\n",
       "dtype: object"
      ]
     },
     "execution_count": 8,
     "metadata": {},
     "output_type": "execute_result"
    }
   ],
   "source": [
    "DF[\"Humidity\"] = DF[\"Humidity\"].fillna(DF[\"Humidity\"].mode())\n",
    "DF.dtypes"
   ]
  },
  {
   "cell_type": "code",
   "execution_count": 9,
   "id": "4d14c443",
   "metadata": {},
   "outputs": [
    {
     "data": {
      "text/plain": [
       "Ozone       0\n",
       "Solar.R     0\n",
       "Wind        0\n",
       "Temp        0\n",
       "Month       0\n",
       "Day         0\n",
       "Humidity    8\n",
       "dtype: int64"
      ]
     },
     "execution_count": 9,
     "metadata": {},
     "output_type": "execute_result"
    }
   ],
   "source": [
    "DF.isnull().sum()"
   ]
  },
  {
   "cell_type": "markdown",
   "id": "1766d0b7",
   "metadata": {},
   "source": [
    "### Data Transformation"
   ]
  },
  {
   "cell_type": "markdown",
   "id": "f9638528",
   "metadata": {},
   "source": [
    "### Using Label Encoding on Humidity column "
   ]
  },
  {
   "cell_type": "code",
   "execution_count": 10,
   "id": "d66ee23f",
   "metadata": {},
   "outputs": [],
   "source": [
    "from sklearn.preprocessing import LabelEncoder"
   ]
  },
  {
   "cell_type": "code",
   "execution_count": 11,
   "id": "2f36e863",
   "metadata": {},
   "outputs": [],
   "source": [
    "lb = LabelEncoder()"
   ]
  },
  {
   "cell_type": "code",
   "execution_count": 12,
   "id": "882ab1c1",
   "metadata": {},
   "outputs": [],
   "source": [
    "DF[\"Humidity\"] = lb.fit_transform(DF[\"Humidity\"])"
   ]
  },
  {
   "cell_type": "code",
   "execution_count": 13,
   "id": "c24c1d60",
   "metadata": {},
   "outputs": [
    {
     "data": {
      "text/plain": [
       "array([0, 1, 3, 2])"
      ]
     },
     "execution_count": 13,
     "metadata": {},
     "output_type": "execute_result"
    }
   ],
   "source": [
    "DF[\"Humidity\"].unique()"
   ]
  },
  {
   "cell_type": "code",
   "execution_count": 14,
   "id": "a3ae7b72",
   "metadata": {},
   "outputs": [
    {
     "data": {
      "text/html": [
       "<div>\n",
       "<style scoped>\n",
       "    .dataframe tbody tr th:only-of-type {\n",
       "        vertical-align: middle;\n",
       "    }\n",
       "\n",
       "    .dataframe tbody tr th {\n",
       "        vertical-align: top;\n",
       "    }\n",
       "\n",
       "    .dataframe thead th {\n",
       "        text-align: right;\n",
       "    }\n",
       "</style>\n",
       "<table border=\"1\" class=\"dataframe\">\n",
       "  <thead>\n",
       "    <tr style=\"text-align: right;\">\n",
       "      <th></th>\n",
       "      <th>Ozone</th>\n",
       "      <th>Solar.R</th>\n",
       "      <th>Wind</th>\n",
       "      <th>Temp</th>\n",
       "      <th>Month</th>\n",
       "      <th>Day</th>\n",
       "      <th>Humidity</th>\n",
       "    </tr>\n",
       "  </thead>\n",
       "  <tbody>\n",
       "    <tr>\n",
       "      <th>0</th>\n",
       "      <td>41.00000</td>\n",
       "      <td>190.000000</td>\n",
       "      <td>7.4</td>\n",
       "      <td>67</td>\n",
       "      <td>5</td>\n",
       "      <td>1</td>\n",
       "      <td>0</td>\n",
       "    </tr>\n",
       "    <tr>\n",
       "      <th>1</th>\n",
       "      <td>36.00000</td>\n",
       "      <td>118.000000</td>\n",
       "      <td>8.0</td>\n",
       "      <td>72</td>\n",
       "      <td>5</td>\n",
       "      <td>2</td>\n",
       "      <td>0</td>\n",
       "    </tr>\n",
       "    <tr>\n",
       "      <th>2</th>\n",
       "      <td>12.00000</td>\n",
       "      <td>149.000000</td>\n",
       "      <td>12.6</td>\n",
       "      <td>74</td>\n",
       "      <td>5</td>\n",
       "      <td>3</td>\n",
       "      <td>1</td>\n",
       "    </tr>\n",
       "    <tr>\n",
       "      <th>3</th>\n",
       "      <td>18.00000</td>\n",
       "      <td>313.000000</td>\n",
       "      <td>11.5</td>\n",
       "      <td>62</td>\n",
       "      <td>5</td>\n",
       "      <td>4</td>\n",
       "      <td>3</td>\n",
       "    </tr>\n",
       "    <tr>\n",
       "      <th>4</th>\n",
       "      <td>42.12931</td>\n",
       "      <td>185.931507</td>\n",
       "      <td>14.3</td>\n",
       "      <td>56</td>\n",
       "      <td>5</td>\n",
       "      <td>5</td>\n",
       "      <td>0</td>\n",
       "    </tr>\n",
       "  </tbody>\n",
       "</table>\n",
       "</div>"
      ],
      "text/plain": [
       "      Ozone     Solar.R  Wind  Temp  Month  Day  Humidity\n",
       "0  41.00000  190.000000   7.4    67      5    1         0\n",
       "1  36.00000  118.000000   8.0    72      5    2         0\n",
       "2  12.00000  149.000000  12.6    74      5    3         1\n",
       "3  18.00000  313.000000  11.5    62      5    4         3\n",
       "4  42.12931  185.931507  14.3    56      5    5         0"
      ]
     },
     "execution_count": 14,
     "metadata": {},
     "output_type": "execute_result"
    }
   ],
   "source": [
    "DF.head(5)"
   ]
  },
  {
   "cell_type": "markdown",
   "id": "6245f060",
   "metadata": {},
   "source": [
    "### Data Integration"
   ]
  },
  {
   "cell_type": "markdown",
   "id": "0796c5f9",
   "metadata": {},
   "source": [
    "### Subset Creation ( Row-wise )"
   ]
  },
  {
   "cell_type": "code",
   "execution_count": 15,
   "id": "0e761287",
   "metadata": {},
   "outputs": [
    {
     "data": {
      "text/html": [
       "<div>\n",
       "<style scoped>\n",
       "    .dataframe tbody tr th:only-of-type {\n",
       "        vertical-align: middle;\n",
       "    }\n",
       "\n",
       "    .dataframe tbody tr th {\n",
       "        vertical-align: top;\n",
       "    }\n",
       "\n",
       "    .dataframe thead th {\n",
       "        text-align: right;\n",
       "    }\n",
       "</style>\n",
       "<table border=\"1\" class=\"dataframe\">\n",
       "  <thead>\n",
       "    <tr style=\"text-align: right;\">\n",
       "      <th></th>\n",
       "      <th>Ozone</th>\n",
       "      <th>Solar.R</th>\n",
       "      <th>Wind</th>\n",
       "      <th>Temp</th>\n",
       "      <th>Month</th>\n",
       "      <th>Day</th>\n",
       "      <th>Humidity</th>\n",
       "    </tr>\n",
       "  </thead>\n",
       "  <tbody>\n",
       "    <tr>\n",
       "      <th>1</th>\n",
       "      <td>36.00000</td>\n",
       "      <td>118.000000</td>\n",
       "      <td>8.0</td>\n",
       "      <td>72</td>\n",
       "      <td>5</td>\n",
       "      <td>2</td>\n",
       "      <td>0</td>\n",
       "    </tr>\n",
       "    <tr>\n",
       "      <th>4</th>\n",
       "      <td>42.12931</td>\n",
       "      <td>185.931507</td>\n",
       "      <td>14.3</td>\n",
       "      <td>56</td>\n",
       "      <td>5</td>\n",
       "      <td>5</td>\n",
       "      <td>0</td>\n",
       "    </tr>\n",
       "    <tr>\n",
       "      <th>7</th>\n",
       "      <td>19.00000</td>\n",
       "      <td>99.000000</td>\n",
       "      <td>13.8</td>\n",
       "      <td>59</td>\n",
       "      <td>5</td>\n",
       "      <td>8</td>\n",
       "      <td>1</td>\n",
       "    </tr>\n",
       "    <tr>\n",
       "      <th>9</th>\n",
       "      <td>42.12931</td>\n",
       "      <td>194.000000</td>\n",
       "      <td>8.6</td>\n",
       "      <td>69</td>\n",
       "      <td>5</td>\n",
       "      <td>10</td>\n",
       "      <td>2</td>\n",
       "    </tr>\n",
       "    <tr>\n",
       "      <th>15</th>\n",
       "      <td>14.00000</td>\n",
       "      <td>334.000000</td>\n",
       "      <td>11.5</td>\n",
       "      <td>64</td>\n",
       "      <td>5</td>\n",
       "      <td>16</td>\n",
       "      <td>3</td>\n",
       "    </tr>\n",
       "    <tr>\n",
       "      <th>28</th>\n",
       "      <td>45.00000</td>\n",
       "      <td>252.000000</td>\n",
       "      <td>14.9</td>\n",
       "      <td>81</td>\n",
       "      <td>5</td>\n",
       "      <td>29</td>\n",
       "      <td>0</td>\n",
       "    </tr>\n",
       "    <tr>\n",
       "      <th>33</th>\n",
       "      <td>42.12931</td>\n",
       "      <td>242.000000</td>\n",
       "      <td>16.1</td>\n",
       "      <td>67</td>\n",
       "      <td>6</td>\n",
       "      <td>3</td>\n",
       "      <td>2</td>\n",
       "    </tr>\n",
       "  </tbody>\n",
       "</table>\n",
       "</div>"
      ],
      "text/plain": [
       "       Ozone     Solar.R  Wind  Temp  Month  Day  Humidity\n",
       "1   36.00000  118.000000   8.0    72      5    2         0\n",
       "4   42.12931  185.931507  14.3    56      5    5         0\n",
       "7   19.00000   99.000000  13.8    59      5    8         1\n",
       "9   42.12931  194.000000   8.6    69      5   10         2\n",
       "15  14.00000  334.000000  11.5    64      5   16         3\n",
       "28  45.00000  252.000000  14.9    81      5   29         0\n",
       "33  42.12931  242.000000  16.1    67      6    3         2"
      ]
     },
     "execution_count": 15,
     "metadata": {},
     "output_type": "execute_result"
    }
   ],
   "source": [
    "#Subset - 1\n",
    "A1 = DF.iloc[[1,4,7,9,15,28,33],:]\n",
    "A1"
   ]
  },
  {
   "cell_type": "code",
   "execution_count": 16,
   "id": "e4ccf4a0",
   "metadata": {},
   "outputs": [
    {
     "data": {
      "text/html": [
       "<div>\n",
       "<style scoped>\n",
       "    .dataframe tbody tr th:only-of-type {\n",
       "        vertical-align: middle;\n",
       "    }\n",
       "\n",
       "    .dataframe tbody tr th {\n",
       "        vertical-align: top;\n",
       "    }\n",
       "\n",
       "    .dataframe thead th {\n",
       "        text-align: right;\n",
       "    }\n",
       "</style>\n",
       "<table border=\"1\" class=\"dataframe\">\n",
       "  <thead>\n",
       "    <tr style=\"text-align: right;\">\n",
       "      <th></th>\n",
       "      <th>Ozone</th>\n",
       "      <th>Solar.R</th>\n",
       "      <th>Wind</th>\n",
       "      <th>Temp</th>\n",
       "      <th>Month</th>\n",
       "      <th>Day</th>\n",
       "      <th>Humidity</th>\n",
       "    </tr>\n",
       "  </thead>\n",
       "  <tbody>\n",
       "    <tr>\n",
       "      <th>70</th>\n",
       "      <td>85.00000</td>\n",
       "      <td>175.000000</td>\n",
       "      <td>7.4</td>\n",
       "      <td>89</td>\n",
       "      <td>7</td>\n",
       "      <td>10</td>\n",
       "      <td>2</td>\n",
       "    </tr>\n",
       "    <tr>\n",
       "      <th>81</th>\n",
       "      <td>16.00000</td>\n",
       "      <td>7.000000</td>\n",
       "      <td>6.9</td>\n",
       "      <td>74</td>\n",
       "      <td>7</td>\n",
       "      <td>21</td>\n",
       "      <td>2</td>\n",
       "    </tr>\n",
       "    <tr>\n",
       "      <th>95</th>\n",
       "      <td>78.00000</td>\n",
       "      <td>185.931507</td>\n",
       "      <td>6.9</td>\n",
       "      <td>86</td>\n",
       "      <td>8</td>\n",
       "      <td>4</td>\n",
       "      <td>0</td>\n",
       "    </tr>\n",
       "    <tr>\n",
       "      <th>105</th>\n",
       "      <td>65.00000</td>\n",
       "      <td>157.000000</td>\n",
       "      <td>9.7</td>\n",
       "      <td>80</td>\n",
       "      <td>8</td>\n",
       "      <td>14</td>\n",
       "      <td>2</td>\n",
       "    </tr>\n",
       "    <tr>\n",
       "      <th>123</th>\n",
       "      <td>96.00000</td>\n",
       "      <td>167.000000</td>\n",
       "      <td>6.9</td>\n",
       "      <td>91</td>\n",
       "      <td>9</td>\n",
       "      <td>1</td>\n",
       "      <td>1</td>\n",
       "    </tr>\n",
       "    <tr>\n",
       "      <th>137</th>\n",
       "      <td>13.00000</td>\n",
       "      <td>112.000000</td>\n",
       "      <td>11.5</td>\n",
       "      <td>71</td>\n",
       "      <td>9</td>\n",
       "      <td>15</td>\n",
       "      <td>0</td>\n",
       "    </tr>\n",
       "    <tr>\n",
       "      <th>149</th>\n",
       "      <td>42.12931</td>\n",
       "      <td>145.000000</td>\n",
       "      <td>13.2</td>\n",
       "      <td>77</td>\n",
       "      <td>9</td>\n",
       "      <td>27</td>\n",
       "      <td>1</td>\n",
       "    </tr>\n",
       "  </tbody>\n",
       "</table>\n",
       "</div>"
      ],
      "text/plain": [
       "        Ozone     Solar.R  Wind  Temp  Month  Day  Humidity\n",
       "70   85.00000  175.000000   7.4    89      7   10         2\n",
       "81   16.00000    7.000000   6.9    74      7   21         2\n",
       "95   78.00000  185.931507   6.9    86      8    4         0\n",
       "105  65.00000  157.000000   9.7    80      8   14         2\n",
       "123  96.00000  167.000000   6.9    91      9    1         1\n",
       "137  13.00000  112.000000  11.5    71      9   15         0\n",
       "149  42.12931  145.000000  13.2    77      9   27         1"
      ]
     },
     "execution_count": 16,
     "metadata": {},
     "output_type": "execute_result"
    }
   ],
   "source": [
    "#Subset - 2\n",
    "A2 = DF.iloc[[70,81,95,105,123,137,149],:]\n",
    "A2"
   ]
  },
  {
   "cell_type": "code",
   "execution_count": 17,
   "id": "824ab4b4",
   "metadata": {},
   "outputs": [
    {
     "data": {
      "text/html": [
       "<div>\n",
       "<style scoped>\n",
       "    .dataframe tbody tr th:only-of-type {\n",
       "        vertical-align: middle;\n",
       "    }\n",
       "\n",
       "    .dataframe tbody tr th {\n",
       "        vertical-align: top;\n",
       "    }\n",
       "\n",
       "    .dataframe thead th {\n",
       "        text-align: right;\n",
       "    }\n",
       "</style>\n",
       "<table border=\"1\" class=\"dataframe\">\n",
       "  <thead>\n",
       "    <tr style=\"text-align: right;\">\n",
       "      <th></th>\n",
       "      <th>Ozone</th>\n",
       "      <th>Solar.R</th>\n",
       "      <th>Wind</th>\n",
       "      <th>Temp</th>\n",
       "      <th>Month</th>\n",
       "      <th>Day</th>\n",
       "      <th>Humidity</th>\n",
       "    </tr>\n",
       "  </thead>\n",
       "  <tbody>\n",
       "    <tr>\n",
       "      <th>1</th>\n",
       "      <td>36.00000</td>\n",
       "      <td>118.000000</td>\n",
       "      <td>8.0</td>\n",
       "      <td>72</td>\n",
       "      <td>5</td>\n",
       "      <td>2</td>\n",
       "      <td>0</td>\n",
       "    </tr>\n",
       "    <tr>\n",
       "      <th>4</th>\n",
       "      <td>42.12931</td>\n",
       "      <td>185.931507</td>\n",
       "      <td>14.3</td>\n",
       "      <td>56</td>\n",
       "      <td>5</td>\n",
       "      <td>5</td>\n",
       "      <td>0</td>\n",
       "    </tr>\n",
       "    <tr>\n",
       "      <th>7</th>\n",
       "      <td>19.00000</td>\n",
       "      <td>99.000000</td>\n",
       "      <td>13.8</td>\n",
       "      <td>59</td>\n",
       "      <td>5</td>\n",
       "      <td>8</td>\n",
       "      <td>1</td>\n",
       "    </tr>\n",
       "    <tr>\n",
       "      <th>9</th>\n",
       "      <td>42.12931</td>\n",
       "      <td>194.000000</td>\n",
       "      <td>8.6</td>\n",
       "      <td>69</td>\n",
       "      <td>5</td>\n",
       "      <td>10</td>\n",
       "      <td>2</td>\n",
       "    </tr>\n",
       "    <tr>\n",
       "      <th>15</th>\n",
       "      <td>14.00000</td>\n",
       "      <td>334.000000</td>\n",
       "      <td>11.5</td>\n",
       "      <td>64</td>\n",
       "      <td>5</td>\n",
       "      <td>16</td>\n",
       "      <td>3</td>\n",
       "    </tr>\n",
       "    <tr>\n",
       "      <th>28</th>\n",
       "      <td>45.00000</td>\n",
       "      <td>252.000000</td>\n",
       "      <td>14.9</td>\n",
       "      <td>81</td>\n",
       "      <td>5</td>\n",
       "      <td>29</td>\n",
       "      <td>0</td>\n",
       "    </tr>\n",
       "    <tr>\n",
       "      <th>33</th>\n",
       "      <td>42.12931</td>\n",
       "      <td>242.000000</td>\n",
       "      <td>16.1</td>\n",
       "      <td>67</td>\n",
       "      <td>6</td>\n",
       "      <td>3</td>\n",
       "      <td>2</td>\n",
       "    </tr>\n",
       "    <tr>\n",
       "      <th>70</th>\n",
       "      <td>85.00000</td>\n",
       "      <td>175.000000</td>\n",
       "      <td>7.4</td>\n",
       "      <td>89</td>\n",
       "      <td>7</td>\n",
       "      <td>10</td>\n",
       "      <td>2</td>\n",
       "    </tr>\n",
       "    <tr>\n",
       "      <th>81</th>\n",
       "      <td>16.00000</td>\n",
       "      <td>7.000000</td>\n",
       "      <td>6.9</td>\n",
       "      <td>74</td>\n",
       "      <td>7</td>\n",
       "      <td>21</td>\n",
       "      <td>2</td>\n",
       "    </tr>\n",
       "    <tr>\n",
       "      <th>95</th>\n",
       "      <td>78.00000</td>\n",
       "      <td>185.931507</td>\n",
       "      <td>6.9</td>\n",
       "      <td>86</td>\n",
       "      <td>8</td>\n",
       "      <td>4</td>\n",
       "      <td>0</td>\n",
       "    </tr>\n",
       "    <tr>\n",
       "      <th>105</th>\n",
       "      <td>65.00000</td>\n",
       "      <td>157.000000</td>\n",
       "      <td>9.7</td>\n",
       "      <td>80</td>\n",
       "      <td>8</td>\n",
       "      <td>14</td>\n",
       "      <td>2</td>\n",
       "    </tr>\n",
       "    <tr>\n",
       "      <th>123</th>\n",
       "      <td>96.00000</td>\n",
       "      <td>167.000000</td>\n",
       "      <td>6.9</td>\n",
       "      <td>91</td>\n",
       "      <td>9</td>\n",
       "      <td>1</td>\n",
       "      <td>1</td>\n",
       "    </tr>\n",
       "    <tr>\n",
       "      <th>137</th>\n",
       "      <td>13.00000</td>\n",
       "      <td>112.000000</td>\n",
       "      <td>11.5</td>\n",
       "      <td>71</td>\n",
       "      <td>9</td>\n",
       "      <td>15</td>\n",
       "      <td>0</td>\n",
       "    </tr>\n",
       "    <tr>\n",
       "      <th>149</th>\n",
       "      <td>42.12931</td>\n",
       "      <td>145.000000</td>\n",
       "      <td>13.2</td>\n",
       "      <td>77</td>\n",
       "      <td>9</td>\n",
       "      <td>27</td>\n",
       "      <td>1</td>\n",
       "    </tr>\n",
       "  </tbody>\n",
       "</table>\n",
       "</div>"
      ],
      "text/plain": [
       "        Ozone     Solar.R  Wind  Temp  Month  Day  Humidity\n",
       "1    36.00000  118.000000   8.0    72      5    2         0\n",
       "4    42.12931  185.931507  14.3    56      5    5         0\n",
       "7    19.00000   99.000000  13.8    59      5    8         1\n",
       "9    42.12931  194.000000   8.6    69      5   10         2\n",
       "15   14.00000  334.000000  11.5    64      5   16         3\n",
       "28   45.00000  252.000000  14.9    81      5   29         0\n",
       "33   42.12931  242.000000  16.1    67      6    3         2\n",
       "70   85.00000  175.000000   7.4    89      7   10         2\n",
       "81   16.00000    7.000000   6.9    74      7   21         2\n",
       "95   78.00000  185.931507   6.9    86      8    4         0\n",
       "105  65.00000  157.000000   9.7    80      8   14         2\n",
       "123  96.00000  167.000000   6.9    91      9    1         1\n",
       "137  13.00000  112.000000  11.5    71      9   15         0\n",
       "149  42.12931  145.000000  13.2    77      9   27         1"
      ]
     },
     "execution_count": 17,
     "metadata": {},
     "output_type": "execute_result"
    }
   ],
   "source": [
    "merge = pd.concat([A1,A2])\n",
    "merge"
   ]
  },
  {
   "cell_type": "markdown",
   "id": "29c2eeac",
   "metadata": {},
   "source": [
    "### Deriving correlation between Columns"
   ]
  },
  {
   "cell_type": "code",
   "execution_count": 18,
   "id": "1f05968e",
   "metadata": {},
   "outputs": [
    {
     "data": {
      "text/html": [
       "<div>\n",
       "<style scoped>\n",
       "    .dataframe tbody tr th:only-of-type {\n",
       "        vertical-align: middle;\n",
       "    }\n",
       "\n",
       "    .dataframe tbody tr th {\n",
       "        vertical-align: top;\n",
       "    }\n",
       "\n",
       "    .dataframe thead th {\n",
       "        text-align: right;\n",
       "    }\n",
       "</style>\n",
       "<table border=\"1\" class=\"dataframe\">\n",
       "  <thead>\n",
       "    <tr style=\"text-align: right;\">\n",
       "      <th></th>\n",
       "      <th>Ozone</th>\n",
       "      <th>Solar.R</th>\n",
       "      <th>Wind</th>\n",
       "      <th>Temp</th>\n",
       "      <th>Month</th>\n",
       "      <th>Day</th>\n",
       "      <th>Humidity</th>\n",
       "    </tr>\n",
       "  </thead>\n",
       "  <tbody>\n",
       "    <tr>\n",
       "      <th>Ozone</th>\n",
       "      <td>1.000000</td>\n",
       "      <td>0.302970</td>\n",
       "      <td>-0.529389</td>\n",
       "      <td>0.608742</td>\n",
       "      <td>0.149081</td>\n",
       "      <td>-0.011355</td>\n",
       "      <td>-0.052122</td>\n",
       "    </tr>\n",
       "    <tr>\n",
       "      <th>Solar.R</th>\n",
       "      <td>0.302970</td>\n",
       "      <td>1.000000</td>\n",
       "      <td>-0.059408</td>\n",
       "      <td>0.262569</td>\n",
       "      <td>-0.072904</td>\n",
       "      <td>-0.145621</td>\n",
       "      <td>-0.058406</td>\n",
       "    </tr>\n",
       "    <tr>\n",
       "      <th>Wind</th>\n",
       "      <td>-0.529389</td>\n",
       "      <td>-0.059408</td>\n",
       "      <td>1.000000</td>\n",
       "      <td>-0.455128</td>\n",
       "      <td>-0.173857</td>\n",
       "      <td>0.025837</td>\n",
       "      <td>0.071925</td>\n",
       "    </tr>\n",
       "    <tr>\n",
       "      <th>Temp</th>\n",
       "      <td>0.608742</td>\n",
       "      <td>0.262569</td>\n",
       "      <td>-0.455128</td>\n",
       "      <td>1.000000</td>\n",
       "      <td>0.420947</td>\n",
       "      <td>-0.130593</td>\n",
       "      <td>-0.229090</td>\n",
       "    </tr>\n",
       "    <tr>\n",
       "      <th>Month</th>\n",
       "      <td>0.149081</td>\n",
       "      <td>-0.072904</td>\n",
       "      <td>-0.173857</td>\n",
       "      <td>0.420947</td>\n",
       "      <td>1.000000</td>\n",
       "      <td>-0.007962</td>\n",
       "      <td>-0.115948</td>\n",
       "    </tr>\n",
       "    <tr>\n",
       "      <th>Day</th>\n",
       "      <td>-0.011355</td>\n",
       "      <td>-0.145621</td>\n",
       "      <td>0.025837</td>\n",
       "      <td>-0.130593</td>\n",
       "      <td>-0.007962</td>\n",
       "      <td>1.000000</td>\n",
       "      <td>0.040532</td>\n",
       "    </tr>\n",
       "    <tr>\n",
       "      <th>Humidity</th>\n",
       "      <td>-0.052122</td>\n",
       "      <td>-0.058406</td>\n",
       "      <td>0.071925</td>\n",
       "      <td>-0.229090</td>\n",
       "      <td>-0.115948</td>\n",
       "      <td>0.040532</td>\n",
       "      <td>1.000000</td>\n",
       "    </tr>\n",
       "  </tbody>\n",
       "</table>\n",
       "</div>"
      ],
      "text/plain": [
       "             Ozone   Solar.R      Wind      Temp     Month       Day  Humidity\n",
       "Ozone     1.000000  0.302970 -0.529389  0.608742  0.149081 -0.011355 -0.052122\n",
       "Solar.R   0.302970  1.000000 -0.059408  0.262569 -0.072904 -0.145621 -0.058406\n",
       "Wind     -0.529389 -0.059408  1.000000 -0.455128 -0.173857  0.025837  0.071925\n",
       "Temp      0.608742  0.262569 -0.455128  1.000000  0.420947 -0.130593 -0.229090\n",
       "Month     0.149081 -0.072904 -0.173857  0.420947  1.000000 -0.007962 -0.115948\n",
       "Day      -0.011355 -0.145621  0.025837 -0.130593 -0.007962  1.000000  0.040532\n",
       "Humidity -0.052122 -0.058406  0.071925 -0.229090 -0.115948  0.040532  1.000000"
      ]
     },
     "execution_count": 18,
     "metadata": {},
     "output_type": "execute_result"
    }
   ],
   "source": [
    "corr = DF.corr()\n",
    "corr"
   ]
  },
  {
   "cell_type": "code",
   "execution_count": 19,
   "id": "3de18f91",
   "metadata": {},
   "outputs": [
    {
     "data": {
      "text/plain": [
       "<AxesSubplot:>"
      ]
     },
     "execution_count": 19,
     "metadata": {},
     "output_type": "execute_result"
    },
    {
     "data": {
      "image/png": "[encoded data removed]",
      "text/plain": [
       "<Figure size 640x480 with 2 Axes>"
      ]
     },
     "metadata": {},
     "output_type": "display_data"
    }
   ],
   "source": [
    "import seaborn as sns\n",
    "sns.heatmap(corr, vmin = -1, vmax = 1, annot=True)"
   ]
  },
  {
   "cell_type": "markdown",
   "id": "93f02736",
   "metadata": {},
   "source": [
    "### Building Data Model"
   ]
  },
  {
   "cell_type": "markdown",
   "id": "1fd7ec69",
   "metadata": {},
   "source": [
    "### Using Linear Regression"
   ]
  },
  {
   "cell_type": "code",
   "execution_count": 20,
   "id": "2f329bb2",
   "metadata": {},
   "outputs": [],
   "source": [
    "X = DF[[\"Ozone\"]]\n",
    "Y = DF[[\"Temp\"]]"
   ]
  },
  {
   "cell_type": "code",
   "execution_count": 21,
   "id": "cc2dff99",
   "metadata": {},
   "outputs": [],
   "source": [
    "from sklearn.model_selection import train_test_split\n",
    "X_train, X_test, Y_train, Y_test = train_test_split(X, Y, test_size=0.3)"
   ]
  },
  {
   "cell_type": "code",
   "execution_count": 22,
   "id": "5aa3ef36",
   "metadata": {},
   "outputs": [],
   "source": [
    "from sklearn.linear_model import LinearRegression"
   ]
  },
  {
   "cell_type": "code",
   "execution_count": 23,
   "id": "b5e398f5",
   "metadata": {},
   "outputs": [],
   "source": [
    "LR = LinearRegression()"
   ]
  },
  {
   "cell_type": "code",
   "execution_count": 24,
   "id": "4d27de21",
   "metadata": {},
   "outputs": [],
   "source": [
    "model = LR.fit(X_train, Y_train)"
   ]
  },
  {
   "cell_type": "code",
   "execution_count": 25,
   "id": "af2cf54d",
   "metadata": {},
   "outputs": [],
   "source": [
    "Y_predict = model.predict(X_test)"
   ]
  },
  {
   "cell_type": "code",
   "execution_count": 26,
   "id": "e1eebc3d",
   "metadata": {},
   "outputs": [],
   "source": [
    "import matplotlib.pyplot as plt"
   ]
  },
  {
   "cell_type": "markdown",
   "id": "62f9db28",
   "metadata": {},
   "source": [
    "### Plotting Graph"
   ]
  },
  {
   "cell_type": "code",
   "execution_count": 27,
   "id": "a4712d96",
   "metadata": {},
   "outputs": [
    {
     "data": {
      "text/plain": [
       "<function matplotlib.pyplot.show(close=None, block=None)>"
      ]
     },
     "execution_count": 27,
     "metadata": {},
     "output_type": "execute_result"
    },
    {
     "data": {
      "image/png": "[encoded data removed]",
      "text/plain": [
       "<Figure size 640x480 with 1 Axes>"
      ]
     },
     "metadata": {},
     "output_type": "display_data"
    }
   ],
   "source": [
    "plt.scatter(X_train,Y_train, color=\"red\")\n",
    "plt.plot(X_train, LR.predict(X_train), color=\"blue\")\n",
    "plt.show"
   ]
  },
  {
   "cell_type": "markdown",
   "id": "6ba01bb7",
   "metadata": {},
   "source": [
    "### Calculating Metrics"
   ]
  },
  {
   "cell_type": "code",
   "execution_count": 26,
   "id": "b572e253",
   "metadata": {},
   "outputs": [],
   "source": [
    "from sklearn.metrics import mean_absolute_error,mean_squared_error,r2_score\n",
    "import numpy as np"
   ]
  },
  {
   "cell_type": "code",
   "execution_count": 27,
   "id": "f99aebf0",
   "metadata": {},
   "outputs": [
    {
     "name": "stdout",
     "output_type": "stream",
     "text": [
      "MSE  68.26402405597275\n",
      "RMSE 8.262204551811385\n",
      "r2   0.3513058390445256\n",
      "MAE  6.557609234920541\n"
     ]
    }
   ],
   "source": [
    "mean_square_error = mean_squared_error(Y_test,Y_predict)\n",
    "print(\"MSE \" ,mean_square_error)\n",
    "\n",
    "import math\n",
    "rmse = math.sqrt(mean_square_error)\n",
    "print(\"RMSE\", rmse)\n",
    "\n",
    "r2 = r2_score(Y_test,Y_predict)\n",
    "print(\"r2  \", r2)\n",
    "\n",
    "MAE=mean_absolute_error(Y_test,Y_predict)\n",
    "print(\"MAE \", MAE)"
   ]
  },
  {
   "cell_type": "code",
   "execution_count": null,
   "id": "7f0e98f2",
   "metadata": {},
   "outputs": [],
   "source": []
  },
  {
   "cell_type": "code",
   "execution_count": null,
   "id": "18f86ff6",
   "metadata": {},
   "outputs": [],
   "source": []
  }
 ],
 "metadata": {
  "kernelspec": {
   "display_name": "Python 3 (ipykernel)",
   "language": "python",
   "name": "python3"
  },
  "language_info": {
   "codemirror_mode": {
    "name": "ipython",
    "version": 3
   },
   "file_extension": ".py",
   "mimetype": "text/x-python",
   "name": "python",
   "nbconvert_exporter": "python",
   "pygments_lexer": "ipython3",
   "version": "3.9.13"
  }
 },
 "nbformat": 4,
 "nbformat_minor": 5
}
